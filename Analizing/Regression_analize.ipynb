{
 "cells": [
  {
   "cell_type": "code",
   "execution_count": 1,
   "metadata": {},
   "outputs": [],
   "source": [
    "import pandas as pd\n",
    "import numpy as np\n",
    "import matplotlib.pyplot as plt\n",
    "from sklearn.linear_model import Lasso\n",
    "from sklearn.model_selection import GridSearchCV, RandomizedSearchCV\n",
    "from sklearn.metrics import mean_squared_error, r2_score, mean_absolute_percentage_error\n",
    "from sklearn.preprocessing import LabelEncoder\n",
    "from sklearn.model_selection import StratifiedShuffleSplit\n",
    "from sklearn.model_selection import train_test_split\n"
   ]
  },
  {
   "cell_type": "code",
   "execution_count": 2,
   "metadata": {},
   "outputs": [],
   "source": [
    "data = pd.read_csv('../DATA/joined_data.csv')\n",
    "x = data.drop('quality', axis=1)\n",
    "y = data['quality']\n",
    "i_train, i_test = list(StratifiedShuffleSplit(n_splits=1, test_size=0.25, random_state=7).split(x, y))[0]\n",
    "x_train, y_train, x_test, y_test = x.iloc[i_train], y.iloc[i_train], x.iloc[i_test], y.iloc[i_test]\n"
   ]
  },
  {
   "cell_type": "code",
   "execution_count": 9,
   "metadata": {},
   "outputs": [
    {
     "name": "stdout",
     "output_type": "stream",
     "text": [
      "[ 7.86629126e-02 -1.32300522e+00 -1.02203025e-01  4.33461657e-02\n",
      " -5.01329384e-01  5.99610232e-03 -2.20541989e-03 -5.78215229e+01\n",
      "  4.71077779e-01  7.91050819e-01  2.68774710e-01]\n",
      "Index(['density', 'volatile acidity', 'chlorides', 'citric acid',\n",
      "       'total sulfur dioxide', 'free sulfur dioxide', 'residual sugar',\n",
      "       'fixed acidity', 'alcohol', 'pH', 'sulphates'],\n",
      "      dtype='object')\n"
     ]
    }
   ],
   "source": [
    "lr = Lasso(alpha=1e-15).fit(x_train, y_train)\n",
    "print(lr.coef_)\n",
    "print(data.columns[np.argsort(lr.coef_)])\n"
   ]
  },
  {
   "cell_type": "code",
   "execution_count": 4,
   "metadata": {},
   "outputs": [
    {
     "name": "stdout",
     "output_type": "stream",
     "text": [
      "0.28197874178500415\n",
      "0.5476188557243297\n"
     ]
    }
   ],
   "source": [
    "p = lr.predict(x_test)\n",
    "print(r2_score(y_test, p))\n",
    "print(mean_squared_error(y_test, p))\n"
   ]
  },
  {
   "cell_type": "code",
   "execution_count": 5,
   "metadata": {},
   "outputs": [],
   "source": [
    "def show_coef(c, names):\n",
    "    print(c)\n",
    "    plt.bar(names, c)\n",
    "    plt.xticks(rotation=90)\n",
    "    plt.axhline(c.mean(), color='red')\n",
    "    plt.axhline(np.median(c), color='green')\n"
   ]
  },
  {
   "cell_type": "code",
   "execution_count": 6,
   "metadata": {},
   "outputs": [
    {
     "name": "stdout",
     "output_type": "stream",
     "text": [
      "[0.07866291 1.32300522 0.10220302 0.04334617 0.50132938 0.0059961\n",
      " 0.00220542 0.47107778 0.79105082 0.26877471]\n"
     ]
    },
    {
     "data": {
      "image/png": "[encoded data removed]",
      "text/plain": [
       "<Figure size 432x288 with 1 Axes>"
      ]
     },
     "metadata": {
      "needs_background": "light"
     },
     "output_type": "display_data"
    }
   ],
   "source": [
    "show_coef(abs(lr.coef_)[abs(lr.coef_) != max(abs(lr.coef_))], x.columns[abs(lr.coef_) != max(abs(lr.coef_))])\n"
   ]
  },
  {
   "cell_type": "code",
   "execution_count": 7,
   "metadata": {},
   "outputs": [
    {
     "data": {
      "text/plain": [
       "array(['density'], dtype=object)"
      ]
     },
     "execution_count": 7,
     "metadata": {},
     "output_type": "execute_result"
    }
   ],
   "source": [
    "med = np.median(abs(lr.coef_).mean(axis=0))\n",
    "useful_columns = x.columns.to_numpy()[abs(lr.coef_) > med]\n",
    "useful_columns"
   ]
  },
  {
   "cell_type": "code",
   "execution_count": 8,
   "metadata": {},
   "outputs": [],
   "source": [
    "data[np.append(useful_columns.tolist(), 'quality')].to_csv('../DATA/regression_remove_data.csv', index=False)"
   ]
  }
 ],
 "metadata": {
  "kernelspec": {
   "display_name": "Python 3",
   "language": "python",
   "name": "python3"
  },
  "language_info": {
   "codemirror_mode": {
    "name": "ipython",
    "version": 3
   },
   "file_extension": ".py",
   "mimetype": "text/x-python",
   "name": "python",
   "nbconvert_exporter": "python",
   "pygments_lexer": "ipython3",
   "version": "3.9.2"
  },
  "orig_nbformat": 4
 },
 "nbformat": 4,
 "nbformat_minor": 2
}
