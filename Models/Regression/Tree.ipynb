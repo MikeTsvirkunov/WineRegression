{
 "cells": [
  {
   "cell_type": "code",
   "execution_count": 22,
   "metadata": {},
   "outputs": [],
   "source": [
    "import pandas as pd\n",
    "import numpy as np\n",
    "import matplotlib.pyplot as plt\n",
    "from sklearn.tree import DecisionTreeRegressor, DecisionTreeClassifier\n",
    "from sklearn.model_selection import GridSearchCV, RandomizedSearchCV\n",
    "from sklearn.metrics import mean_squared_error, r2_score, mean_absolute_percentage_error, classification_report\n",
    "from sklearn.preprocessing import LabelEncoder\n",
    "from sklearn.model_selection import StratifiedShuffleSplit\n",
    "from sklearn.model_selection import train_test_split\n",
    "from sklearn.utils import class_weight\n"
   ]
  },
  {
   "cell_type": "code",
   "execution_count": 9,
   "metadata": {},
   "outputs": [],
   "source": [
    "data = pd.read_csv('../../DATA/scaled_data.csv')\n",
    "x = data.drop('quality', axis=1)\n",
    "y = data['quality']\n",
    "lab = LabelEncoder()\n",
    "y = lab.fit_transform(y)\n",
    "i_train, i_test = list(StratifiedShuffleSplit(\n",
    "    n_splits=1, test_size=0.25, random_state=7).split(x, y))[0]\n",
    "x_train, y_train, x_test, y_test = x.iloc[i_train], y[i_train], x.iloc[i_test], y[i_test]\n"
   ]
  },
  {
   "cell_type": "code",
   "execution_count": 10,
   "metadata": {},
   "outputs": [
    {
     "data": {
      "text/plain": [
       "(7,)"
      ]
     },
     "execution_count": 10,
     "metadata": {},
     "output_type": "execute_result"
    }
   ],
   "source": [
    "cw = class_weight.compute_class_weight(class_weight='balanced',\n",
    "                                       classes=pd.unique(data['quality']),\n",
    "                                       y=data['quality'])\n",
    "cw.shape\n"
   ]
  },
  {
   "cell_type": "code",
   "execution_count": 15,
   "metadata": {},
   "outputs": [],
   "source": [
    "cw = dict(zip(np.unique(y), cw))"
   ]
  },
  {
   "cell_type": "code",
   "execution_count": 17,
   "metadata": {},
   "outputs": [],
   "source": [
    "rparams = {'criterion': ['poisson', 'friedman_mse', 'absolute_error', 'squared_error'],\n",
    "          'max_depth': np.arange(2, 20)}\n",
    "cparams = {'criterion': ['log_loss', 'entropy', 'gini'],\n",
    "          'max_depth': np.arange(2, 20)}\n"
   ]
  },
  {
   "cell_type": "code",
   "execution_count": 16,
   "metadata": {},
   "outputs": [],
   "source": [
    "rtree = GridSearchCV(DecisionTreeRegressor(),\n",
    "                                  rparams,\n",
    "                                  n_jobs=4,\n",
    "                                  scoring='r2'\n",
    "                                  ).fit(x_train, y_train)\n"
   ]
  },
  {
   "cell_type": "code",
   "execution_count": 17,
   "metadata": {},
   "outputs": [],
   "source": [
    "rp = rtree.best_estimator_.predict(x_test)\n"
   ]
  },
  {
   "cell_type": "code",
   "execution_count": 18,
   "metadata": {},
   "outputs": [
    {
     "name": "stdout",
     "output_type": "stream",
     "text": [
      "0.2593313281660258 0.015691431521002976\n"
     ]
    }
   ],
   "source": [
    "print(r2_score(y_test, rp), mean_squared_error(y_test, rp))"
   ]
  },
  {
   "cell_type": "code",
   "execution_count": 18,
   "metadata": {},
   "outputs": [
    {
     "name": "stderr",
     "output_type": "stream",
     "text": [
      "c:\\Users\\Mike\\AppData\\Local\\Programs\\Python\\Python39\\lib\\site-packages\\sklearn\\model_selection\\_split.py:700: UserWarning: The least populated class in y has only 4 members, which is less than n_splits=5.\n",
      "  warnings.warn(\n"
     ]
    }
   ],
   "source": [
    "ctree = GridSearchCV(DecisionTreeClassifier(class_weight=cw),\n",
    "                    cparams,\n",
    "                    n_jobs=4,\n",
    "                    scoring='f1_micro'\n",
    "                    ).fit(x_train, y_train)\n"
   ]
  },
  {
   "cell_type": "code",
   "execution_count": 20,
   "metadata": {},
   "outputs": [],
   "source": [
    "cp = ctree.best_estimator_.predict(x_test)\n"
   ]
  },
  {
   "cell_type": "code",
   "execution_count": 24,
   "metadata": {},
   "outputs": [
    {
     "name": "stdout",
     "output_type": "stream",
     "text": [
      "              precision    recall  f1-score   support\n",
      "\n",
      "           0       0.00      0.00      0.00         8\n",
      "           1       0.24      0.17      0.20        54\n",
      "           2       0.61      0.71      0.65       535\n",
      "           3       0.65      0.57      0.61       709\n",
      "           4       0.53      0.58      0.55       270\n",
      "           5       0.41      0.35      0.38        48\n",
      "           6       0.00      0.00      0.00         1\n",
      "\n",
      "    accuracy                           0.59      1625\n",
      "   macro avg       0.35      0.34      0.34      1625\n",
      "weighted avg       0.59      0.59      0.59      1625\n",
      "\n"
     ]
    }
   ],
   "source": [
    "print(classification_report(y_test, cp))\n"
   ]
  }
 ],
 "metadata": {
  "kernelspec": {
   "display_name": "Python 3",
   "language": "python",
   "name": "python3"
  },
  "language_info": {
   "codemirror_mode": {
    "name": "ipython",
    "version": 3
   },
   "file_extension": ".py",
   "mimetype": "text/x-python",
   "name": "python",
   "nbconvert_exporter": "python",
   "pygments_lexer": "ipython3",
   "version": "3.9.2"
  },
  "orig_nbformat": 4
 },
 "nbformat": 4,
 "nbformat_minor": 2
}
